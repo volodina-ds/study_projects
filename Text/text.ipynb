{
 "cells": [
  {
   "cell_type": "markdown",
   "id": "95589e1e-f0b2-4eb5-929e-41cbdf46f90d",
   "metadata": {},
   "source": [
    "# Проект «Викишоп» с BERT\n",
    "Интернет-магазин «Викишоп» запускает новый сервис. Теперь пользователи могут редактировать и дополнять описания товаров, как в вики-сообществах. То есть клиенты предлагают свои правки и комментируют изменения других. Магазину нужен инструмент, который будет искать токсичные комментарии и отправлять их на модерацию. \n",
    "Необходимо обучит модель классифицировать комментарии на позитивные и негативные. В распоряжении есть набор данных с разметкой о токсичности правок.    \n",
    "Метрика качества F1 должна быть не меньше 0.75."
   ]
  },
  {
   "cell_type": "markdown",
   "id": "294ab3a5-9d73-41b9-b0c0-7714545c6c1d",
   "metadata": {},
   "source": [
    "## 1. Изучение общей информации о датасете"
   ]
  },
  {
   "cell_type": "code",
   "execution_count": 6,
   "id": "ce49498d-8d37-4c21-be68-23b718180950",
   "metadata": {},
   "outputs": [],
   "source": [
    "!pip install nltk -q"
   ]
  },
  {
   "cell_type": "code",
   "execution_count": 7,
   "id": "5d29a233-15c5-4c61-83f7-1a0cc3e97372",
   "metadata": {},
   "outputs": [],
   "source": [
    "!pip show notebook jupyterlab_widgets -q"
   ]
  },
  {
   "cell_type": "code",
   "execution_count": 8,
   "id": "35a2e490-94a4-4aef-85a6-b3b5b3689fea",
   "metadata": {},
   "outputs": [],
   "source": [
    "!pip install --upgrade scikit-learn -q"
   ]
  },
  {
   "cell_type": "code",
   "execution_count": 9,
   "id": "927e7b1a-ab0c-4ea9-83f1-e292f74e9d2a",
   "metadata": {},
   "outputs": [],
   "source": [
    "!pip install lightgbm -q"
   ]
  },
  {
   "cell_type": "code",
   "execution_count": 10,
   "id": "0bc50bd1-b702-45ee-a0a6-46774a98c1e2",
   "metadata": {},
   "outputs": [
    {
     "name": "stderr",
     "output_type": "stream",
     "text": [
      "[nltk_data] Downloading package punkt to\n",
      "[nltk_data]     /Users/gulnaravolodina/nltk_data...\n",
      "[nltk_data]   Package punkt is already up-to-date!\n",
      "[nltk_data] Downloading package wordnet to\n",
      "[nltk_data]     /Users/gulnaravolodina/nltk_data...\n",
      "[nltk_data]   Package wordnet is already up-to-date!\n",
      "[nltk_data] Downloading package stopwords to\n",
      "[nltk_data]     /Users/gulnaravolodina/nltk_data...\n",
      "[nltk_data]   Package stopwords is already up-to-date!\n"
     ]
    },
    {
     "data": {
      "text/plain": [
       "True"
      ]
     },
     "execution_count": 10,
     "metadata": {},
     "output_type": "execute_result"
    }
   ],
   "source": [
    "import nltk\n",
    "nltk.download('punkt')\n",
    "nltk.download('wordnet')\n",
    "nltk.download('stopwords')"
   ]
  },
  {
   "cell_type": "code",
   "execution_count": 11,
   "id": "2bb28f56-cbf1-4270-aea0-a8ee5b674171",
   "metadata": {},
   "outputs": [],
   "source": [
    "import os\n",
    "\n",
    "import matplotlib.pyplot as plt\n",
    "import numpy as np\n",
    "import pandas as pd\n",
    "import time\n",
    "import torch\n",
    "import transformers as ppb\n",
    "import re\n",
    "\n",
    "from lightgbm import LGBMClassifier\n",
    "from nltk.corpus import stopwords, wordnet\n",
    "from nltk.stem import WordNetLemmatizer\n",
    "from nltk.tokenize import word_tokenize\n",
    "from sklearn.compose import ColumnTransformer\n",
    "from sklearn.feature_extraction.text import TfidfVectorizer\n",
    "from sklearn.linear_model import LogisticRegression\n",
    "from sklearn.metrics import make_scorer, f1_score\n",
    "from sklearn.model_selection import (\n",
    "      cross_val_score,\n",
    "      train_test_split,\n",
    "      RandomizedSearchCV\n",
    ")\n",
    "from sklearn.pipeline import Pipeline, make_pipeline\n",
    "from sklearn.tree import DecisionTreeClassifier\n",
    "from sklearn.utils.class_weight import compute_class_weight\n",
    "from tqdm import notebook\n",
    "from transformers import DistilBertTokenizer, DistilBertModel\n",
    "from tqdm.notebook import tqdm\n",
    "tqdm.pandas()"
   ]
  },
  {
   "cell_type": "code",
   "execution_count": 12,
   "id": "237e5164-ba8a-4d66-9643-6d3bdb098dc1",
   "metadata": {},
   "outputs": [],
   "source": [
    "import warnings\n",
    "warnings.filterwarnings('ignore')"
   ]
  },
  {
   "cell_type": "code",
   "execution_count": 13,
   "id": "d67eb770-6d35-4691-a48c-038792fb901d",
   "metadata": {},
   "outputs": [],
   "source": [
    "stop_words = set(stopwords.words('english'))"
   ]
  },
  {
   "cell_type": "code",
   "execution_count": 14,
   "id": "eba12cc4-84b6-49ae-81fc-c3744f13d6f5",
   "metadata": {},
   "outputs": [],
   "source": [
    "# функция для загрузки данных из локального файла или URL.\n",
    "def load_data(local_path, url):\n",
    "    try:\n",
    "        if os.path.exists(local_path, index_col=0):\n",
    "            data = pd.read_csv(local_path)\n",
    "            print('Данные успешно загружены из локального файла.')\n",
    "            return data\n",
    "        else:\n",
    "            print('Локальный файл не найден, загрузка с URL...')\n",
    "            raise FileNotFoundError\n",
    "    except Exception as e:\n",
    "        print('Ошибка при загрузке данных из локального файла:', e)\n",
    "    \n",
    "    # Попытка загрузки из URL\n",
    "    try:\n",
    "        data = pd.read_csv(url, index_col=0)\n",
    "        print('Данные успешно загружены из URL.')\n",
    "        return data\n",
    "    except Exception as e:\n",
    "        print('Ошибка при загрузке данных из URL:', e)\n",
    "        return None"
   ]
  },
  {
   "cell_type": "code",
   "execution_count": 17,
   "id": "87b1a8d2-3144-4855-81a0-a5bf16e2203f",
   "metadata": {},
   "outputs": [
    {
     "name": "stdout",
     "output_type": "stream",
     "text": [
      "Ошибка при загрузке данных из локального файла: exists() got an unexpected keyword argument 'index_col'\n",
      "Данные успешно загружены из URL.\n"
     ]
    }
   ],
   "source": [
    "df = load_data('/Users/gulnaravolodina/Downloads/toxic_comments.csv', \n",
    "                 'https://code.s3.yandex.net/datasets/toxic_comments.csv')"
   ]
  },
  {
   "cell_type": "code",
   "execution_count": 18,
   "id": "af7551a9-bb86-450f-84f1-4afecaf2282c",
   "metadata": {},
   "outputs": [],
   "source": [
    "data = df.copy()"
   ]
  },
  {
   "cell_type": "code",
   "execution_count": 19,
   "id": "ef277954-e4aa-4ed4-abe2-589c89d6d80d",
   "metadata": {},
   "outputs": [
    {
     "data": {
      "text/plain": [
       "text     0\n",
       "toxic    0\n",
       "dtype: int64"
      ]
     },
     "execution_count": 19,
     "metadata": {},
     "output_type": "execute_result"
    }
   ],
   "source": [
    "data.isnull().sum()"
   ]
  },
  {
   "cell_type": "code",
   "execution_count": 20,
   "id": "01cd7b79-75d6-4b0c-b7d3-ef486cd5d8e0",
   "metadata": {},
   "outputs": [
    {
     "data": {
      "text/html": [
       "<div>\n",
       "<style scoped>\n",
       "    .dataframe tbody tr th:only-of-type {\n",
       "        vertical-align: middle;\n",
       "    }\n",
       "\n",
       "    .dataframe tbody tr th {\n",
       "        vertical-align: top;\n",
       "    }\n",
       "\n",
       "    .dataframe thead th {\n",
       "        text-align: right;\n",
       "    }\n",
       "</style>\n",
       "<table border=\"1\" class=\"dataframe\">\n",
       "  <thead>\n",
       "    <tr style=\"text-align: right;\">\n",
       "      <th></th>\n",
       "      <th>text</th>\n",
       "      <th>toxic</th>\n",
       "    </tr>\n",
       "  </thead>\n",
       "  <tbody>\n",
       "    <tr>\n",
       "      <th>56239</th>\n",
       "      <td>\"\\n\\nThe following quotes are taken verbatim f...</td>\n",
       "      <td>0</td>\n",
       "    </tr>\n",
       "    <tr>\n",
       "      <th>144762</th>\n",
       "      <td>\"\\n\\nQuicksilver, you can speculate about indí...</td>\n",
       "      <td>0</td>\n",
       "    </tr>\n",
       "    <tr>\n",
       "      <th>47850</th>\n",
       "      <td>Elderly Persian\\n\\nI have contributed a photo ...</td>\n",
       "      <td>0</td>\n",
       "    </tr>\n",
       "  </tbody>\n",
       "</table>\n",
       "</div>"
      ],
      "text/plain": [
       "                                                     text  toxic\n",
       "56239   \"\\n\\nThe following quotes are taken verbatim f...      0\n",
       "144762  \"\\n\\nQuicksilver, you can speculate about indí...      0\n",
       "47850   Elderly Persian\\n\\nI have contributed a photo ...      0"
      ]
     },
     "execution_count": 20,
     "metadata": {},
     "output_type": "execute_result"
    }
   ],
   "source": [
    "data.sample(3)"
   ]
  },
  {
   "cell_type": "markdown",
   "id": "676ea785-7839-461b-b32a-a4fcc976cee8",
   "metadata": {},
   "source": [
    "### Вывод по блоку\n",
    "Получен датасет с данными, пропущенных значений нет, данных достаточно для анализа"
   ]
  },
  {
   "cell_type": "markdown",
   "id": "c00564a0-383a-40f4-9d2d-0cb989c21ec2",
   "metadata": {},
   "source": [
    "### 2. Обработка данных"
   ]
  },
  {
   "cell_type": "code",
   "execution_count": 23,
   "id": "ca60e9c3-b3a7-4c6a-9850-7dce1c5ddfc4",
   "metadata": {},
   "outputs": [
    {
     "data": {
      "text/plain": [
       "toxic\n",
       "0    0.898388\n",
       "1    0.101612\n",
       "Name: proportion, dtype: float64"
      ]
     },
     "execution_count": 23,
     "metadata": {},
     "output_type": "execute_result"
    }
   ],
   "source": [
    "# посмотрим распределение токсичных комментариев\n",
    "data.toxic.value_counts(normalize=True)"
   ]
  },
  {
   "cell_type": "code",
   "execution_count": 24,
   "id": "ee0a1e74-5ad4-4bdb-9330-84673bf2a447",
   "metadata": {},
   "outputs": [
    {
     "data": {
      "image/png": "[encoded data removed]",
      "text/plain": [
       "<Figure size 640x480 with 1 Axes>"
      ]
     },
     "metadata": {},
     "output_type": "display_data"
    }
   ],
   "source": [
    "data.toxic.value_counts(normalize=True).plot(kind='bar') \n",
    "plt.xlabel('Комментарии')\n",
    "plt.ylabel('Доля')\n",
    "plt.title('Распределение комментариев')\n",
    "plt.show()"
   ]
  },
  {
   "cell_type": "code",
   "execution_count": 27,
   "id": "2ed58f95-596a-47a4-8c32-a9ae5a1aec45",
   "metadata": {},
   "outputs": [],
   "source": [
    "# функция для преобразования частей речи\n",
    "def get_wordnet_pos(word):\n",
    "    tag = nltk.pos_tag([word])[0][1]  \n",
    "    if tag.startswith('J'):\n",
    "        return wordnet.ADJ\n",
    "    elif tag.startswith('V'):\n",
    "        return wordnet.VERB\n",
    "    elif tag.startswith('N'):\n",
    "        return wordnet.NOUN\n",
    "    elif tag.startswith('R'):\n",
    "        return wordnet.ADV\n",
    "    else:\n",
    "        return wordnet.NOUN"
   ]
  },
  {
   "cell_type": "code",
   "execution_count": 28,
   "id": "063df7fa-c442-452d-841b-247f9bd696fa",
   "metadata": {},
   "outputs": [],
   "source": [
    "lemmatizer = WordNetLemmatizer()"
   ]
  },
  {
   "cell_type": "code",
   "execution_count": 29,
   "id": "e28c0579-5781-4a49-8f02-05a123b7f9a7",
   "metadata": {},
   "outputs": [],
   "source": [
    "# функция для лемматизации текста\n",
    "def lemmatize(text):\n",
    "    words = word_tokenize(text) \n",
    "    lemm_list = []\n",
    "    \n",
    "    # Используем map для применения функции ко всем словам\n",
    "    lemm_list = list(map(lambda word: lemmatizer.lemmatize(word, pos=get_wordnet_pos(word)), words))\n",
    "    \n",
    "    return \" \".join(lemm_list)"
   ]
  },
  {
   "cell_type": "code",
   "execution_count": 32,
   "id": "a77d498a-0444-4be8-95a9-ee0df4cea072",
   "metadata": {},
   "outputs": [],
   "source": [
    "# функция для очистки текста от лишних символов и стоп-слов\n",
    "def clear_text(text):\n",
    "    text_clear = re.sub(r'[^a-zA-Z\\s]', ' ', text).lower() \n",
    "    text_clear = re.sub(r'\\s+', ' ', text_clear)\n",
    "    words = text_clear.split()\n",
    "    words_without_stopwords = [word for word in words if word not in stop_words]\n",
    "    return ' '.join(words_without_stopwords)"
   ]
  },
  {
   "cell_type": "code",
   "execution_count": 33,
   "id": "912f855e-253f-42b0-a5e0-a292cd05d3f4",
   "metadata": {},
   "outputs": [
    {
     "data": {
      "application/vnd.jupyter.widget-view+json": {
       "model_id": "4ac900b3a0b74435aef1b14835dab6f1",
       "version_major": 2,
       "version_minor": 0
      },
      "text/plain": [
       "  0%|          | 0/159292 [00:00<?, ?it/s]"
      ]
     },
     "metadata": {},
     "output_type": "display_data"
    }
   ],
   "source": [
    "# добавим к исходному датасету новый столбец с очищенным текстом\n",
    "data['cleaned_text'] = data['text'].progress_apply(clear_text) "
   ]
  },
  {
   "cell_type": "code",
   "execution_count": 34,
   "id": "9c00cd4c-ca43-4a3c-a69b-9bec19c9041e",
   "metadata": {},
   "outputs": [
    {
     "data": {
      "application/vnd.jupyter.widget-view+json": {
       "model_id": "d7717f44b44d425bb5879a5bf8c71e20",
       "version_major": 2,
       "version_minor": 0
      },
      "text/plain": [
       "  0%|          | 0/159292 [00:00<?, ?it/s]"
      ]
     },
     "metadata": {},
     "output_type": "display_data"
    }
   ],
   "source": [
    "# добавим к исходному датасету новый столбец с лемматизированным текстом\n",
    "data['lemmatized_text'] = data['cleaned_text'].progress_apply(lemmatize)"
   ]
  },
  {
   "cell_type": "code",
   "execution_count": 35,
   "id": "3fff0661-c3b5-4136-afdf-cecfe9d19421",
   "metadata": {},
   "outputs": [
    {
     "data": {
      "text/html": [
       "<div>\n",
       "<style scoped>\n",
       "    .dataframe tbody tr th:only-of-type {\n",
       "        vertical-align: middle;\n",
       "    }\n",
       "\n",
       "    .dataframe tbody tr th {\n",
       "        vertical-align: top;\n",
       "    }\n",
       "\n",
       "    .dataframe thead th {\n",
       "        text-align: right;\n",
       "    }\n",
       "</style>\n",
       "<table border=\"1\" class=\"dataframe\">\n",
       "  <thead>\n",
       "    <tr style=\"text-align: right;\">\n",
       "      <th></th>\n",
       "      <th>text</th>\n",
       "      <th>toxic</th>\n",
       "      <th>cleaned_text</th>\n",
       "      <th>lemmatized_text</th>\n",
       "    </tr>\n",
       "  </thead>\n",
       "  <tbody>\n",
       "    <tr>\n",
       "      <th>32707</th>\n",
       "      <td>name \\n\\nLaura Gray Vinning Webber Spencer</td>\n",
       "      <td>0</td>\n",
       "      <td>name laura gray vinning webber spencer</td>\n",
       "      <td>name laura gray vinning webber spencer</td>\n",
       "    </tr>\n",
       "    <tr>\n",
       "      <th>48456</th>\n",
       "      <td>\"\\n If the reader hasn't progressed far enough...</td>\n",
       "      <td>0</td>\n",
       "      <td>reader progressed far enough learning english ...</td>\n",
       "      <td>reader progress far enough learn english know ...</td>\n",
       "    </tr>\n",
       "    <tr>\n",
       "      <th>32830</th>\n",
       "      <td>June 2012 (UTC)\\nHave you made sure you have e...</td>\n",
       "      <td>0</td>\n",
       "      <td>june utc made sure explained everything infobo...</td>\n",
       "      <td>june utc make sure explain everything infobox ...</td>\n",
       "    </tr>\n",
       "    <tr>\n",
       "      <th>144326</th>\n",
       "      <td>WHAT A LOAD OF CRAP YOU WRITE.</td>\n",
       "      <td>1</td>\n",
       "      <td>load crap write</td>\n",
       "      <td>load crap write</td>\n",
       "    </tr>\n",
       "    <tr>\n",
       "      <th>153251</th>\n",
       "      <td>\", 24 July 2009 (UTC)\\n\\nI just asked that on ...</td>\n",
       "      <td>0</td>\n",
       "      <td>july utc asked talk page waiting response flash</td>\n",
       "      <td>july utc ask talk page wait response flash</td>\n",
       "    </tr>\n",
       "  </tbody>\n",
       "</table>\n",
       "</div>"
      ],
      "text/plain": [
       "                                                     text  toxic  \\\n",
       "32707          name \\n\\nLaura Gray Vinning Webber Spencer      0   \n",
       "48456   \"\\n If the reader hasn't progressed far enough...      0   \n",
       "32830   June 2012 (UTC)\\nHave you made sure you have e...      0   \n",
       "144326                     WHAT A LOAD OF CRAP YOU WRITE.      1   \n",
       "153251  \", 24 July 2009 (UTC)\\n\\nI just asked that on ...      0   \n",
       "\n",
       "                                             cleaned_text  \\\n",
       "32707              name laura gray vinning webber spencer   \n",
       "48456   reader progressed far enough learning english ...   \n",
       "32830   june utc made sure explained everything infobo...   \n",
       "144326                                    load crap write   \n",
       "153251    july utc asked talk page waiting response flash   \n",
       "\n",
       "                                          lemmatized_text  \n",
       "32707              name laura gray vinning webber spencer  \n",
       "48456   reader progress far enough learn english know ...  \n",
       "32830   june utc make sure explain everything infobox ...  \n",
       "144326                                    load crap write  \n",
       "153251         july utc ask talk page wait response flash  "
      ]
     },
     "execution_count": 35,
     "metadata": {},
     "output_type": "execute_result"
    }
   ],
   "source": [
    "data.sample(5)"
   ]
  },
  {
   "cell_type": "code",
   "execution_count": 38,
   "id": "80a9fb31-4c43-4927-8d91-b614250f8d42",
   "metadata": {},
   "outputs": [],
   "source": [
    "data_loaded = data.dropna()"
   ]
  },
  {
   "cell_type": "markdown",
   "id": "88fcee07-5361-45e3-8d9d-b480ab3f755f",
   "metadata": {},
   "source": [
    "### Вывод\n",
    "Целевой признак не сбалансирован, что следует учесть при обучении модели.\n",
    "Данные были лемматизированы при помощи WordNetLemmatizer() в зависимости от части речи, а также очищены от стоп-слов и лишних символов.\n",
    "Удалены пустые строки."
   ]
  },
  {
   "cell_type": "markdown",
   "id": "42384d53-9dd3-4703-9269-401c2d621632",
   "metadata": {},
   "source": [
    "## 3. Обучение модели"
   ]
  },
  {
   "cell_type": "code",
   "execution_count": 41,
   "id": "4372aca0-fb81-4260-97e8-25fb0a1539db",
   "metadata": {},
   "outputs": [],
   "source": [
    "X = data_loaded['lemmatized_text']\n",
    "y = data_loaded['toxic']"
   ]
  },
  {
   "cell_type": "code",
   "execution_count": 42,
   "id": "5d5314a9-2a17-4449-8ac1-1bc65d92cf0e",
   "metadata": {},
   "outputs": [
    {
     "data": {
      "text/plain": [
       "((111504,), (111504,))"
      ]
     },
     "execution_count": 42,
     "metadata": {},
     "output_type": "execute_result"
    }
   ],
   "source": [
    "X_train, X_test, y_train, y_test = train_test_split(\n",
    " X, y, test_size=0.3, random_state=42, stratify=y\n",
    ")\n",
    "\n",
    "X_train.shape, y_train.shape"
   ]
  },
  {
   "cell_type": "code",
   "execution_count": 44,
   "id": "3ce0176f-5a9b-47aa-8abb-54d1cc7607b8",
   "metadata": {},
   "outputs": [],
   "source": [
    "RANDOM_STATE=42"
   ]
  },
  {
   "cell_type": "code",
   "execution_count": 63,
   "id": "c7907f48-d865-4db6-82e7-8e728b0bd158",
   "metadata": {},
   "outputs": [],
   "source": [
    "best_models = {}\n",
    "def train_single_model(model, params, model_name, results_df, best_models):\n",
    "\n",
    "    pipeline = Pipeline(steps=[('tfidf', TfidfVectorizer()), ('model', model)])\n",
    "\n",
    "    # Используем RandomizedSearchCV для нахождения лучших гиперпараметров\n",
    "    rz_search = RandomizedSearchCV(\n",
    "        pipeline, \n",
    "        params, \n",
    "        cv=5,\n",
    "        scoring='f1',\n",
    "        n_jobs=-1,\n",
    "        error_score='raise',\n",
    "        refit=True\n",
    "    )\n",
    "\n",
    "    # Обучаем модель\n",
    "    rz_search.fit(X_train, y_train)\n",
    "\n",
    "    mean_fit_time = rz_search.cv_results_['mean_fit_time'][rz_search.best_index_]\n",
    "    mean_score_time = rz_search.cv_results_['mean_score_time'][rz_search.best_index_]\n",
    "\n",
    "    # Обновляем DataFrame с результатами\n",
    "    result = pd.DataFrame([{\n",
    "        'model_name': model_name,\n",
    "        'best_params': rz_search.best_params_,\n",
    "        'f1': rz_search.best_score_,\n",
    "        'mean_fit_time': mean_fit_time,\n",
    "        'mean_score_time': mean_score_time\n",
    "    }])\n",
    "\n",
    "    results_df = pd.concat([results_df, result], ignore_index=True)\n",
    "\n",
    "    # Сохраняем лучшую модель в словарь\n",
    "    best_models[model_name] = rz_search.best_estimator_\n",
    "\n",
    "    # Выводим результаты\n",
    "    print('Лучшая модель и её параметры:\\n\\n', rz_search.best_estimator_)\n",
    "    print('Метрика лучшей модели на тренировочной выборке:', rz_search.best_score_)\n",
    "\n",
    "    return results_df, best_models"
   ]
  },
  {
   "cell_type": "code",
   "execution_count": 68,
   "id": "77adf242-90d7-4cef-b6dc-ab7e2a687605",
   "metadata": {},
   "outputs": [],
   "source": [
    "results_df = pd.DataFrame(columns=['model_name', 'f1', 'mean_fit_time', 'mean_score_time'])"
   ]
  },
  {
   "cell_type": "code",
   "execution_count": 70,
   "id": "1e1bc66c-e4de-4e19-90e2-8e92947a6272",
   "metadata": {},
   "outputs": [
    {
     "name": "stdout",
     "output_type": "stream",
     "text": [
      "Лучшая модель и её параметры:\n",
      "\n",
      " Pipeline(steps=[('tfidf', TfidfVectorizer()),\n",
      "                ('model',\n",
      "                 LogisticRegression(C=1.4000000000000001,\n",
      "                                    class_weight='balanced', random_state=42,\n",
      "                                    solver='liblinear'))])\n",
      "Метрика лучшей модели на тренировочной выборке: 0.7542527318348009\n"
     ]
    }
   ],
   "source": [
    "model = LogisticRegression(random_state=RANDOM_STATE, solver='liblinear', class_weight='balanced')\n",
    "params = {\n",
    "    'model__C': [i * 0.1 for i in range(1, 15)]\n",
    "}\n",
    "results_df, best_models = train_single_model(model, params, LogisticRegression, results_df, best_models)"
   ]
  },
  {
   "cell_type": "code",
   "execution_count": 74,
   "id": "1059a387-9ee5-40f9-a4af-1653197d93e1",
   "metadata": {},
   "outputs": [
    {
     "name": "stdout",
     "output_type": "stream",
     "text": [
      "Лучшая модель и её параметры:\n",
      "\n",
      " Pipeline(steps=[('tfidf', TfidfVectorizer()),\n",
      "                ('model',\n",
      "                 DecisionTreeClassifier(max_depth=9, min_samples_leaf=9,\n",
      "                                        random_state=42))])\n",
      "Метрика лучшей модели на тренировочной выборке: 0.6024401384031173\n"
     ]
    }
   ],
   "source": [
    "model_2 = DecisionTreeClassifier(random_state=RANDOM_STATE)\n",
    "params_2 =  {\n",
    "        'model__max_depth': range(1, 10),\n",
    "        'model__min_samples_leaf': range(2, 20),\n",
    "        'model__min_samples_split': range(2, 10)}\n",
    "\n",
    "results_df, best_models = train_single_model(model_2, params_2, DecisionTreeClassifier, results_df, best_models)"
   ]
  },
  {
   "cell_type": "code",
   "execution_count": 77,
   "id": "e4ce3239-1dcd-4362-a291-b2c4dbd13852",
   "metadata": {},
   "outputs": [
    {
     "data": {
      "text/html": [
       "<div>\n",
       "<style scoped>\n",
       "    .dataframe tbody tr th:only-of-type {\n",
       "        vertical-align: middle;\n",
       "    }\n",
       "\n",
       "    .dataframe tbody tr th {\n",
       "        vertical-align: top;\n",
       "    }\n",
       "\n",
       "    .dataframe thead th {\n",
       "        text-align: right;\n",
       "    }\n",
       "</style>\n",
       "<table border=\"1\" class=\"dataframe\">\n",
       "  <thead>\n",
       "    <tr style=\"text-align: right;\">\n",
       "      <th></th>\n",
       "      <th>model_name</th>\n",
       "      <th>f1</th>\n",
       "      <th>mean_fit_time</th>\n",
       "      <th>mean_score_time</th>\n",
       "      <th>best_params</th>\n",
       "    </tr>\n",
       "  </thead>\n",
       "  <tbody>\n",
       "    <tr>\n",
       "      <th>0</th>\n",
       "      <td>&lt;class 'sklearn.linear_model._logistic.Logisti...</td>\n",
       "      <td>0.754253</td>\n",
       "      <td>8.120547</td>\n",
       "      <td>1.470695</td>\n",
       "      <td>{'model__C': 1.4000000000000001}</td>\n",
       "    </tr>\n",
       "    <tr>\n",
       "      <th>1</th>\n",
       "      <td>&lt;class 'sklearn.tree._classes.DecisionTreeClas...</td>\n",
       "      <td>0.602440</td>\n",
       "      <td>14.864617</td>\n",
       "      <td>1.445526</td>\n",
       "      <td>{'model__min_samples_split': 2, 'model__min_sa...</td>\n",
       "    </tr>\n",
       "  </tbody>\n",
       "</table>\n",
       "</div>"
      ],
      "text/plain": [
       "                                          model_name        f1  mean_fit_time  \\\n",
       "0  <class 'sklearn.linear_model._logistic.Logisti...  0.754253       8.120547   \n",
       "1  <class 'sklearn.tree._classes.DecisionTreeClas...  0.602440      14.864617   \n",
       "\n",
       "   mean_score_time                                        best_params  \n",
       "0         1.470695                   {'model__C': 1.4000000000000001}  \n",
       "1         1.445526  {'model__min_samples_split': 2, 'model__min_sa...  "
      ]
     },
     "metadata": {},
     "output_type": "display_data"
    }
   ],
   "source": [
    "pd.set_option('display.max_columns', None)\n",
    "display(results_df)"
   ]
  },
  {
   "cell_type": "markdown",
   "id": "6d11c818-6675-4684-a9fa-1e5322574ed0",
   "metadata": {},
   "source": [
    "Для финального тестирования будет использована модель LogisticRegression, показавшая лучшую метрику на тренировочной выборке и меньшее среднее время обучения"
   ]
  },
  {
   "cell_type": "code",
   "execution_count": 91,
   "id": "e7b1b16a-9ab6-408b-9562-7c7cd882aa95",
   "metadata": {},
   "outputs": [
    {
     "data": {
      "text/plain": [
       "{sklearn.linear_model._logistic.LogisticRegression: Pipeline(steps=[('tfidf', TfidfVectorizer()),\n",
       "                 ('model',\n",
       "                  LogisticRegression(C=1.4000000000000001,\n",
       "                                     class_weight='balanced', random_state=42,\n",
       "                                     solver='liblinear'))]),\n",
       " sklearn.tree._classes.DecisionTreeClassifier: Pipeline(steps=[('tfidf', TfidfVectorizer()),\n",
       "                 ('model',\n",
       "                  DecisionTreeClassifier(max_depth=9, min_samples_leaf=9,\n",
       "                                         random_state=42))])}"
      ]
     },
     "metadata": {},
     "output_type": "display_data"
    }
   ],
   "source": [
    "display(best_models)"
   ]
  },
  {
   "cell_type": "code",
   "execution_count": 101,
   "id": "159bdeed-e5f6-4d99-b623-4a649ee5184c",
   "metadata": {},
   "outputs": [
    {
     "name": "stdout",
     "output_type": "stream",
     "text": [
      "F1 на тестовой выборке: 0.7575\n"
     ]
    }
   ],
   "source": [
    "model_best = make_pipeline(TfidfVectorizer(), LogisticRegression(\n",
    "                    C=1.4000000000000001, random_state=RANDOM_STATE, solver='liblinear', class_weight='balanced')) \n",
    "\n",
    "# Обучение модели на тренировочных данных\n",
    "model_best.fit(X_train, y_train)\n",
    "# Предсказание на тестовой выборке\n",
    "y_pred_mod = model_best.predict(X_test)\n",
    "\n",
    "# Вычисление F1-меры на тестовой выборке\n",
    "f1_test = f1_score(y_test, y_pred_mod)\n",
    "\n",
    "print(f\"F1 на тестовой выборке: {f1_test:.4f}\")"
   ]
  },
  {
   "cell_type": "markdown",
   "id": "f0ccd0a8-0ae7-4486-b07f-70b5b0788cb3",
   "metadata": {},
   "source": [
    "### Вывод\n",
    "Были обучены 2 модели LogisticRegression и DecisionTreeClassifier\n",
    "Лучший результат показала модель LogisticRegression: \n",
    "- Лучшие гиперпараметры(C=1.4000000000000001, class_weight='balanced', random_state=42, solver='liblinear'))])\n",
    "- Метрика лучшей модели на тренировочной выборке: 0.7542527318348009\n",
    "\n",
    "Результат модели на тестовой выборке F1: 0.7575"
   ]
  },
  {
   "cell_type": "markdown",
   "id": "0f3b87c4-b9ef-4e50-bc9c-38b7f7586fea",
   "metadata": {},
   "source": [
    "### 4. Модель BERT"
   ]
  },
  {
   "cell_type": "code",
   "execution_count": null,
   "id": "ddf969be-70c3-4372-bfbc-449700ea4ed7",
   "metadata": {},
   "outputs": [],
   "source": [
    "# Возьмем небольшое количество примеров для экономии ресурсов.\n",
    "df_bert = df.sample(400).reset_index(drop=True)"
   ]
  },
  {
   "cell_type": "code",
   "execution_count": null,
   "id": "38427beb-8bf3-47d1-9279-89e8865767bd",
   "metadata": {},
   "outputs": [],
   "source": [
    "# Загрузка предобученной модели/токенизатора\n",
    "model_class, tokenizer_class, pretrained_weights = (ppb.DistilBertModel, ppb.DistilBertTokenizer, 'distilbert-base-uncased')\n",
    "tokenizer = tokenizer_class.from_pretrained(pretrained_weights)\n",
    "model = model_class.from_pretrained(pretrained_weights)"
   ]
  },
  {
   "cell_type": "code",
   "execution_count": null,
   "id": "2dde657a-f9a9-4e35-9b69-e2d48ebae1cc",
   "metadata": {},
   "outputs": [],
   "source": [
    "# изменим максимальную длину токенов\n",
    "def split_text(text, max_length=512):\n",
    "    tokens = tokenizer.tokenize(text)\n",
    "    chunks = []\n",
    "    for i in range(0, len(tokens), max_length):\n",
    "        chunks.append(tokens[i:i + max_length])\n",
    "    return chunks"
   ]
  },
  {
   "cell_type": "code",
   "execution_count": null,
   "id": "2d089aae-96ad-466f-a58f-891af68f8545",
   "metadata": {},
   "outputs": [],
   "source": [
    "tokenized = df_bert['text'].apply(lambda x: split_text(x))"
   ]
  },
  {
   "cell_type": "code",
   "execution_count": null,
   "id": "1b2fc00e-1459-49bc-adde-ab158f4696db",
   "metadata": {},
   "outputs": [],
   "source": [
    "max_len = 0\n",
    "for i in tokenized:\n",
    "    for chunk in i:\n",
    "        if len(chunk) > max_len:\n",
    "            max_len = len(chunk)"
   ]
  },
  {
   "cell_type": "code",
   "execution_count": null,
   "id": "ad68c613-3701-4c17-9afa-91db3885828b",
   "metadata": {},
   "outputs": [],
   "source": [
    "padded = np.array([tokenizer.convert_tokens_to_ids(chunk) + [0] * (max_len - len(chunk)) for chunks in tokenized for chunk in chunks])\n",
    "attention_mask = np.where(padded != 0, 1, 0)"
   ]
  },
  {
   "cell_type": "code",
   "execution_count": null,
   "id": "59b7c5d5-7a30-454a-985a-3e077d31dc9c",
   "metadata": {},
   "outputs": [],
   "source": [
    "np.array(padded).shape"
   ]
  },
  {
   "cell_type": "code",
   "execution_count": null,
   "id": "590a349f-79a8-4d1c-b569-d2b36d8ef78b",
   "metadata": {},
   "outputs": [],
   "source": [
    "attention_mask = np.where(padded != 0, 1, 0)\n",
    "attention_mask.shape"
   ]
  },
  {
   "cell_type": "code",
   "execution_count": null,
   "id": "d1887d7a-73fc-4169-9c4f-e931f00fff0d",
   "metadata": {},
   "outputs": [],
   "source": [
    "# создадим входной вектор из матрицы токенов и передадим его в модель\n",
    "input_ids = torch.tensor(padded)\n",
    "attention_mask = torch.tensor(attention_mask)\n",
    "\n",
    "with torch.no_grad():\n",
    "    last_hidden_states = model(input_ids, attention_mask=attention_mask)"
   ]
  },
  {
   "cell_type": "code",
   "execution_count": null,
   "id": "02760951-272b-49f2-83d4-fb50f6a9cdf7",
   "metadata": {},
   "outputs": [],
   "source": [
    "batch_size = 100\n",
    "embeddings = []\n",
    "for i in notebook.tqdm(range(padded.shape[0] // batch_size)):\n",
    "    batch = input_ids[batch_size * i:batch_size * (i + 1)]\n",
    "    attention_mask_batch = attention_mask[batch_size * i:batch_size * (i + 1)]\n",
    "\n",
    "    with torch.no_grad():\n",
    "        batch_embeddings = model(batch, attention_mask=attention_mask_batch)\n",
    "    \n",
    "    embeddings.append(batch_embeddings[0][:, 0, :].numpy())"
   ]
  },
  {
   "cell_type": "code",
   "execution_count": null,
   "id": "37ac9fbc-e3d8-4966-a733-e9401d8296e5",
   "metadata": {},
   "outputs": [],
   "source": [
    "features = np.concatenate(embeddings)\n",
    "display(features.shape)\n",
    " \n",
    "# разделим наши данные на признаки (матрица X) и целевую переменную (y)\n",
    "X_bert = features\n",
    "y_bert = df_bert['toxic']\n",
    " \n",
    "# разделяем модель на обучающую и валидационную выборку\n",
    "X_train_bert, X_test_bert, y_train_bert, y_test_bert = train_test_split(\n",
    " X_bert, y_bert, test_size=0.5, random_state=42\n",
    ")\n",
    " \n",
    "# зададим алгоритм для модели\n",
    "model = LogisticRegression(random_state=42)\n",
    "\n",
    "model.fit(X_train_bert, y_train_bert)\n",
    "# Предсказания на тестовой выборке\n",
    "predictions = model.predict(X_test_bert)\n",
    " \n",
    "# Вычисление F1-меры\n",
    "f1 = f1_score(y_test_bert, predictions)\n",
    "print(f\"F1 мера: {f1}\")\n",
    "\n",
    "\n",
    "# Кросс-валидация\n",
    "cross_val_scores = cross_val_score(model, X_bert, y_bert, cv=5)\n",
    "print(f\"Кросс-валидационные оценки: {cross_val_scores}\")\n",
    "print(f\"Средняя кросс-валидационная F1 мера: {np.mean(cross_val_scores)}\")"
   ]
  },
  {
   "cell_type": "markdown",
   "id": "493e794b-2908-47e0-8dfd-bae9f2244a97",
   "metadata": {},
   "source": [
    "Результаты конечно же не релевантны на таком объеме тем более с дисбалансом классов, но хотелось попробовать и эту модель и показать на ревью код. На выборке большегого размера умирало ядро"
   ]
  },
  {
   "cell_type": "markdown",
   "id": "1a7f1f5f-3daf-42a7-9ce9-4dafc87d6136",
   "metadata": {},
   "source": [
    "## Результаты исследования."
   ]
  },
  {
   "cell_type": "markdown",
   "id": "64c7b4ac-190c-45b2-ba68-4135a6381e9e",
   "metadata": {},
   "source": [
    "Был получен датасет с данными, пропущенных значений нет, данных достаточно для анализа.\n",
    "По результатам предварительной обработки данных выявлено, что целевой признак не сбалансирован, что было учтено при обучении модели.\n",
    "Данные были лемматизированы при помощи WordNetLemmatizer() в зависимости от части речи, а также очищены от стоп-слов и лишних символов.\n",
    "Удалены пустые строки.\n",
    "Были обучены 2 модели LogisticRegression и DecisionTreeClassifier\n",
    "Лучший результат показала модель LogisticRegression: \n",
    "- Лучшие гиперпараметры: {'model__C': 1.1}\n",
    "- F1 на валидационных данных: 0.8393532851737187\n",
    "- Время обучения модели: 119.5159981250763 секунд\n",
    "- Время предсказания модели: 3.5557587146759033 секунд\n",
    "\n",
    "Результат модели на тестовой выборке F1: 0.7540"
   ]
  },
  {
   "cell_type": "code",
   "execution_count": null,
   "id": "1ac71d13-caa9-4666-9aff-c276c2cd5e9f",
   "metadata": {},
   "outputs": [],
   "source": []
  }
 ],
 "metadata": {
  "kernelspec": {
   "display_name": "Python 3 (ipykernel)",
   "language": "python",
   "name": "python3"
  },
  "language_info": {
   "codemirror_mode": {
    "name": "ipython",
    "version": 3
   },
   "file_extension": ".py",
   "mimetype": "text/x-python",
   "name": "python",
   "nbconvert_exporter": "python",
   "pygments_lexer": "ipython3",
   "version": "3.11.7"
  },
  "toc": {
   "base_numbering": 1,
   "nav_menu": {},
   "number_sections": true,
   "sideBar": true,
   "skip_h1_title": true,
   "title_cell": "Table of Contents",
   "title_sidebar": "Contents",
   "toc_cell": false,
   "toc_position": {},
   "toc_section_display": true,
   "toc_window_display": false
  }
 },
 "nbformat": 4,
 "nbformat_minor": 5
}
